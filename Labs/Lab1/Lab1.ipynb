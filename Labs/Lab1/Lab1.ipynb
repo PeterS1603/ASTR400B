{
 "cells": [
  {
   "cell_type": "markdown",
   "metadata": {},
   "source": [
    "# In Class Lab 1\n",
    "\n",
    "### Due by midnight, thursday in your github repository 'Labs/Lab1' folder\n"
   ]
  },
  {
   "cell_type": "code",
   "execution_count": 12,
   "metadata": {},
   "outputs": [],
   "source": [
    "# Import Modules \n",
    "import numpy as np # import numpy\n",
    "import astropy.units as u # import astropy units\n",
    "from astropy import constants as const # import astropy constants"
   ]
  },
  {
   "cell_type": "markdown",
   "metadata": {},
   "source": [
    "### Astropy Units:  https://docs.astropy.org/en/stable/units/index.html"
   ]
  },
  {
   "cell_type": "markdown",
   "metadata": {},
   "source": [
    "\n",
    "## Part A:  The Local Standard of Rest\n",
    "Proper motion of Sgr A* from Reid & Brunthaler 2004\n",
    "$\\mu = 6.379$ mas/yr \n",
    "\n",
    "Peculiar motion of the sun, $v_\\odot$ = 12.24 km/s  (Schonrich 2010)\n",
    "\n",
    "\n",
    "$v_{tan} = 4.74 \\frac{\\mu}{\\rm mas/yr} \\frac{R_o}{\\rm kpc} = V_{LSR} + v_\\odot$\n",
    "\n",
    "\n",
    "### a)\n",
    "\n",
    "Create a function called VLSR to compute the local standard of res (V$_{LSR}$).\n",
    "\n",
    "The function should take as input: the solar radius (R$_o$), the proper motion (mu)\n",
    "and the peculiar motion of the sun in the $v_\\odot$ direction.\n",
    "\n",
    "Compute V$_{LSR}$ using three different values R$_o$: \n",
    "1. Water Maser Distance for the Sun :  R$_o$ = 8.34 kpc   (Reid 2014 ApJ 783) \n",
    "2. GRAVITY Collaboration Distance for the Sun:  R$_o$ = 8.178 kpc   (Abuter+2019 A&A 625)\n",
    "3. Value for Distance to Sun listed in Sparke & Gallagher : R$_o$ = 7.9 kpc \n"
   ]
  },
  {
   "cell_type": "code",
   "execution_count": 13,
   "metadata": {},
   "outputs": [],
   "source": [
    "reid2014 = 8.34\n",
    "GRAV2019 = 8.178\n",
    "Gallagher = 7.9"
   ]
  },
  {
   "cell_type": "code",
   "execution_count": 14,
   "metadata": {},
   "outputs": [],
   "source": [
    "def VLSR(R_0, mu=6.379,v_pec=12.24 * u.km / u.s):\n",
    "    '''Computes velocity at local standard of rest\n",
    "\n",
    "    Inputs:\n",
    "        R_0: float, Distance from sun to center of galaxy, units: kpc\n",
    "        mu: float, Proper motion of Sgr A*, from Red & Brunthaler 2004, = 6.379 mas/yr\n",
    "        v_pec: float, peculiar motion of the sun, from Schonrich 2010, = 12.24 km/s\n",
    "\n",
    "    Outputs:\n",
    "        VLRS: float, the local standard of rest, units: km/s\n",
    "    '''\n",
    "    product_1 = 4.74 * mu * R_0\n",
    "    result = product_1 * (u.km / u.s) - v_pec\n",
    "    \n",
    "    return result\n"
   ]
  },
  {
   "cell_type": "code",
   "execution_count": 15,
   "metadata": {},
   "outputs": [
    {
     "name": "stdout",
     "output_type": "stream",
     "text": [
      "Reid 2014 ApJ 783: 239.9320764 km / s\n",
      "Abuter+2019 A&A 625: 235.03376988000002 km / s\n",
      "Sparke & Gallagher: 226.628034 km / s\n"
     ]
    }
   ],
   "source": [
    "print('Reid 2014 ApJ 783:',VLSR(reid2014))\n",
    "print('Abuter+2019 A&A 625:',VLSR(GRAV2019))\n",
    "print('Sparke & Gallagher:',VLSR(Gallagher))"
   ]
  },
  {
   "cell_type": "markdown",
   "metadata": {},
   "source": [
    "### b)\n",
    "\n",
    "compute the orbital period of the sun in Gyr using R$_o$ from the GRAVITY Collaboration (assume circular orbit)\n",
    "\n",
    "Note that 1 km/s $\\sim$ 1kpc/Gyr"
   ]
  },
  {
   "cell_type": "code",
   "execution_count": 18,
   "metadata": {},
   "outputs": [
    {
     "name": "stdout",
     "output_type": "stream",
     "text": [
      "0.2137682914325781 Gyr\n"
     ]
    }
   ],
   "source": [
    "def Orbit_Period(V_LSR,R_0):\n",
    "    '''Calculates orbital period using v_LSR and orbital radius R_0. Period = (2pi * R_0)/V_LSR. \n",
    "       Assumes circular orbits\n",
    "\n",
    "    Inputs:\n",
    "        V_LRS: astropy quantity, local standard of rest velocity, units: km/s\n",
    "        R_0: float, Distance from sun to center of galaxy, units: kpc\n",
    "\n",
    "    Returns:\n",
    "        Orbital Period: float, length of time it takes the sun to complete a circular orbit, units: Gyr\n",
    "    '''\n",
    "    circum = 2*np.pi*R_0 * u.kpc # Calculates circumfirance of the circular orbit\n",
    "    V_LSR = V_LSR.to(u.kpc / u.Gyr) # Converts V_LSR from km/s to kpc/Gyr\n",
    "\n",
    "    Period = circum / V_LSR # Calculates period by dividing circumfirance by velocity\n",
    "\n",
    "    return Period\n",
    "\n",
    "Period = Orbit_Period(VLSR(GRAV2019),GRAV2019)\n",
    "\n",
    "print(Orbit_Period(VLSR(GRAV2019),GRAV2019))\n",
    "    "
   ]
  },
  {
   "cell_type": "markdown",
   "metadata": {},
   "source": [
    "### c)\n",
    "\n",
    "Compute the number of rotations about the GC over the age of the universe (13.8 Gyr)"
   ]
  },
  {
   "cell_type": "code",
   "execution_count": 20,
   "metadata": {},
   "outputs": [
    {
     "name": "stdout",
     "output_type": "stream",
     "text": [
      "64.55587920696125 rotations\n"
     ]
    }
   ],
   "source": [
    "def n_rotations(period):\n",
    "    '''Calculates the number of rotations an object with a given orbital period will have done over the age of the \n",
    "       universe (13.8 Gyr)\n",
    "\n",
    "   Inputs: \n",
    "       period: astropy quantity, the time it takes for the object to complete a circular orbit, units: Gyr\n",
    "\n",
    "   Returns:\n",
    "       rotations: float, the number of rotations completed\n",
    "    '''\n",
    "    AgeUniverse = 13.8 * u.Gyr\n",
    "    \n",
    "    rotations = AgeUniverse / (period) # Divides age of universe (Gyr) by orbital period (rot/Gyr)\n",
    "    return rotations\n",
    "\n",
    "print(n_rotations(Period),'rotations')"
   ]
  },
  {
   "cell_type": "markdown",
   "metadata": {},
   "source": [
    "## Part B  Dark Matter Density Profiles\n",
    "\n",
    "### a)\n",
    "Try out Fitting Rotation Curves \n",
    "[here](http://wittman.physics.ucdavis.edu/Animations/RotationCurve/GalacticRotation.html)\n",
    "\n",
    "\n",
    "### b)\n",
    "\n",
    "\n",
    "In the Isothermal Sphere model, what is the mass enclosed within the solar radius (R$_o$) in units of M$_\\odot$? \n",
    "\n",
    "Recall that for the Isothermal sphere :\n",
    "$\\rho(r) = \\frac{V_{LSR}^2}{4\\pi G r^2}$\n",
    "\n",
    "Where $G$ = 4.4985e-6 kpc$^3$/Gyr$^2$/M$_\\odot$, r is in kpc and $V_{LSR}$ is in km/s\n",
    "\n",
    "What about at 260 kpc (in units of  M$_\\odot$) ? "
   ]
  },
  {
   "cell_type": "code",
   "execution_count": 23,
   "metadata": {},
   "outputs": [],
   "source": [
    "G = const.G.to((u.kpc**3)/(u.Gyr**2)/(u.M_sun))"
   ]
  },
  {
   "cell_type": "code",
   "execution_count": 25,
   "metadata": {},
   "outputs": [],
   "source": [
    "def Mass_enclosed(R, V_LSR):\n",
    "    '''Calculates dark matter mass ennclosed within a given radius R assuming an isothermal sphere model\n",
    "\n",
    "    Inputs:\n",
    "        R: float, units: kpc, radius within which mass is enclosed\n",
    "        V_LSR: astropy quantity, units: km/s, local standard of rest velocity\n",
    "\n",
    "    Returns:\n",
    "        M_enclosed: astropy quantity, units: solar masses, mass enclosed by radius R\n",
    "    '''\n",
    "    #Mass(r) = Integrate rho dV\n",
    "    #          Integrate rho 4*pi*r^2*dr     rho = (V_LSR ** 2) / (4*np.pi * G * ((R*u.kpc)**2))\n",
    "    #          integrate V_lsr^2 / G dr\n",
    "    \n",
    "    VLSRkpcGyr = V_LSR.to(u.kpc/u.Gyr)\n",
    "\n",
    "    M_enclosed = (VLSRkpcGyr ** 2) / G * (R*u.kpc)\n",
    "    \n",
    "    return M_enclosed "
   ]
  },
  {
   "cell_type": "code",
   "execution_count": null,
   "metadata": {},
   "outputs": [],
   "source": [
    "# compute mass enclosed within R_0 using GRAV2019\n",
    "\n",
    "M_iso = Mass_enclosed(GRAV2019, VLSR(GRAV2019))\n",
    "print(f'{M_iso:.2e}')"
   ]
  },
  {
   "cell_type": "code",
   "execution_count": 28,
   "metadata": {},
   "outputs": [
    {
     "name": "stdout",
     "output_type": "stream",
     "text": [
      "3.34e+12 solMass\n"
     ]
    }
   ],
   "source": [
    "# compute mass enclosed within 260 kpc\n",
    "\n",
    "M_iso = Mass_enclosed(260, VLSR(GRAV2019))\n",
    "print(f'{M_iso:.2e}')"
   ]
  },
  {
   "cell_type": "markdown",
   "metadata": {},
   "source": [
    "## c) \n",
    "\n",
    "The Leo I satellite is one of the fastest moving satellite galaxies we know. \n",
    "\n",
    "\n",
    "It is moving with 3D velocity of magnitude: Vtot = 196 km/s at a distance of 260 kpc (Sohn 2013 ApJ 768)\n",
    "\n",
    "If we assume that Leo I is moving at the escape speed:\n",
    "\n",
    "$v_{esc}^2 = 2|\\Phi| = 2 \\int G \\frac{\\rho(r)}{r}dV $ \n",
    "\n",
    "and assuming the Milky Way is well modeled by a Hernquist Sphere with a scale radius of $a$= 30 kpc, what is the minimum mass of the Milky Way (in units of M$_\\odot$) ?  \n",
    "\n",
    "How does this compare to estimates of the mass assuming the Isothermal Sphere model at 260 kpc (from your answer above)"
   ]
  },
  {
   "cell_type": "code",
   "execution_count": 41,
   "metadata": {},
   "outputs": [],
   "source": [
    "# Potential herquist sphere Phi = -G*M /(r+a)\n",
    "# escape speed becomes: vesc^2 = 2*(-G*M /(r+a))\n",
    "# Mass becomes: M = 2(-G / (r+a)) / vesc^2\n",
    "\n",
    "def MassHernVesc(vesc, r, a=30*u.kpc):\n",
    "    '''Calculates the total dark matter needed given the escape speed, assuming a Hernquist sphere model\n",
    "\n",
    "    Inputs:\n",
    "        vesc: astropy quantity [km/s], escape speed/satellite speed\n",
    "        r: float [kpc], distance from the galactic center\n",
    "        a: astropy quantity [kpc], Hernquist scale length, default=30kpc\n",
    "\n",
    "    Returns:\n",
    "        M: astropy quantity [kpc], mass within r\n",
    "    '''\n",
    "\n",
    "    vescKpcGyr = vesc.to(u.kpc/u.Gyr)\n",
    "\n",
    "    M = vesc**2 / (2*G / ((r*u.kpc) + a))\n",
    "\n",
    "    return M"
   ]
  },
  {
   "cell_type": "code",
   "execution_count": 42,
   "metadata": {},
   "outputs": [
    {
     "name": "stdout",
     "output_type": "stream",
     "text": [
      "1.24e+12 solMass\n"
     ]
    }
   ],
   "source": [
    "Vleo = 196*u.kpc/u.Gyr\n",
    "r = 260\n",
    "\n",
    "M_Hern = MassHernVesc(Vleo, r)\n",
    "print(f'{M_Hern:.2e}')"
   ]
  },
  {
   "cell_type": "code",
   "execution_count": null,
   "metadata": {},
   "outputs": [],
   "source": []
  }
 ],
 "metadata": {
  "kernelspec": {
   "display_name": "Python 3 (ipykernel)",
   "language": "python",
   "name": "python3"
  },
  "language_info": {
   "codemirror_mode": {
    "name": "ipython",
    "version": 3
   },
   "file_extension": ".py",
   "mimetype": "text/x-python",
   "name": "python",
   "nbconvert_exporter": "python",
   "pygments_lexer": "ipython3",
   "version": "3.9.18"
  }
 },
 "nbformat": 4,
 "nbformat_minor": 4
}
